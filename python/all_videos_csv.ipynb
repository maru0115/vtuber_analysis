{
 "cells": [
  {
   "cell_type": "code",
   "execution_count": 1,
   "metadata": {},
   "outputs": [],
   "source": [
    "from tempfile import mkdtemp\n",
    "import codecs\n",
    "\n",
    "import os\n",
    "import re\n",
    "import time\n",
    "import datetime\n",
    "import pandas as pd\n",
    "import urllib.request\n",
    "from dotenv import load_dotenv\n",
    "load_dotenv()\n",
    "\n",
    "from selenium import webdriver\n",
    "from selenium.webdriver.common.by import By\n",
    "from selenium.common.exceptions import NoSuchElementException\n",
    "from selenium.webdriver.support import expected_conditions as EC\n",
    "from selenium.webdriver.support.ui import WebDriverWait\n",
    "from selenium.webdriver.support.select import Select\n",
    "\n",
    "import googleapiclient.errors\n",
    "from googleapiclient.discovery import build"
   ]
  },
  {
   "cell_type": "code",
   "execution_count": 12,
   "metadata": {},
   "outputs": [],
   "source": [
    "# パラメータ設定\n",
    "SCAN_LIMIT      = 10\n",
    "YOUTUBE_API_KEY = os.getenv('YOUTUBE_API_KEY')\n",
    "\n",
    "st = '2024-04-01T00:00:00+0900'\n",
    "ed = '2024-05-01T00:00:00+0900'\n",
    "\n",
    "output_folder        = \"..\\csv\"\n",
    "filename_videos_info = os.path.join(output_folder,\"all_videos_info.csv\")"
   ]
  },
  {
   "cell_type": "code",
   "execution_count": 15,
   "metadata": {},
   "outputs": [],
   "source": [
    "# データ取得対象となるchannelId\n",
    "\n",
    "# all_livers_info.csv から登録者が多い順にchannelIdを取得\n",
    "df = pd.read_csv(\"../csv/all_livers_info.csv\")\n",
    "list_channelId = df.query(\"subscriberCount>=100\").sort_values('subscriberCount', ascending=False)[\"channelId\"]\n",
    "\n",
    "## csvファイル作成\n",
    "with open(filename_videos_info, mode='w', encoding='utf8') as f:\n",
    "    f.write(f\"channelId,videoId,publishedAt,video_type,title,duration,viewCount,likeCount,favoriteCount,commentCount,description\")"
   ]
  },
  {
   "cell_type": "code",
   "execution_count": 4,
   "metadata": {},
   "outputs": [],
   "source": [
    "# YouTube接続の設定\n",
    "youtube = build('youtube', 'v3', developerKey=YOUTUBE_API_KEY)"
   ]
  },
  {
   "cell_type": "code",
   "execution_count": 7,
   "metadata": {},
   "outputs": [],
   "source": [
    "#データの取得\n",
    "for channelId in list_channelId[:SCAN_LIMIT]:\n",
    "\n",
    "    # チャンネルのvideoIDをすべて取得\n",
    "    nextPageToken = \"\"\n",
    "    list_videoId = []\n",
    "\n",
    "    while 1:\n",
    "        response_search = youtube.search().list(\n",
    "            part        = \"id\",\n",
    "            channelId   = channelId,\n",
    "            maxResults  = 50,\n",
    "            publishedAfter  = st,\n",
    "            publishedBefore = ed,\n",
    "            type      = \"video\",\n",
    "            pageToken = nextPageToken\n",
    "        ).execute()\n",
    "\n",
    "        for i in range(0,response_search[\"pageInfo\"][\"resultsPerPage\"]):\n",
    "            list_videoId.append(response_search[\"items\"][i][\"id\"][\"videoId\"])\n",
    "\n",
    "        try:\n",
    "            nextPageToken = response_search[\"nextPageToken\"]\n",
    "        except KeyError:\n",
    "            break\n",
    "\n",
    "    # videoIDから詳細をすべて取得\n",
    "    i = 0\n",
    "\n",
    "    for videoId in list_videoId:\n",
    "\n",
    "        response_videos = youtube.videos().list(\n",
    "            part = \"snippet, statistics, contentDetails, liveStreamingDetails\",\n",
    "            id   = videoId,\n",
    "            hl   = \"ja_JP\",\n",
    "        ).execute()\n",
    "        \n",
    "        title         = response_videos[\"items\"][0][\"snippet\"][\"title\"].replace('\"','')\n",
    "        publishedAt   = response_videos[\"items\"][0][\"snippet\"][\"publishedAt\"]\n",
    "        duration      = response_videos[\"items\"][0][\"contentDetails\"][\"duration\"]\n",
    "        viewCount     = response_videos[\"items\"][0][\"statistics\"][\"viewCount\"]\n",
    "        favoriteCount = response_videos[\"items\"][0][\"statistics\"][\"favoriteCount\"]\n",
    "        description   = response_videos[\"items\"][0][\"snippet\"][\"description\"].replace('\"','').replace('\\n','\\\\n').replace('\\r','\\\\r')\n",
    "\n",
    "        # 高評価の数は非公開のときもある\n",
    "        try:\n",
    "            likeCount = response_videos[\"items\"][0][\"statistics\"][\"likeCount\"]\n",
    "        except KeyError:\n",
    "            likeCount = \"\"\n",
    "\n",
    "        # コメントはオフになっていることがある\n",
    "        try:\n",
    "            commentCount  = response_videos[\"items\"][0][\"statistics\"][\"commentCount\"]\n",
    "        except KeyError:\n",
    "            commentCount = \"\"\n",
    "\n",
    "        # type取得\n",
    "        if response_videos[\"items\"][0].get('liveStreamingDetails') is not None:\n",
    "            video_type = \"live\"\n",
    "        elif re.search(\"#shorts\", title) is not None:\n",
    "            video_type = \"short\"\n",
    "        else:\n",
    "            video_type = \"movie\"\n",
    "\n",
    "        # ファイル書き込み\n",
    "        with open(filename_videos_info, mode='a', encoding='utf8') as f:\n",
    "            f.write(f'\\n{channelId},{videoId},{publishedAt},{video_type},\"{title}\",{duration},{viewCount},{likeCount},{favoriteCount},{commentCount},\"{description}\"')"
   ]
  },
  {
   "cell_type": "code",
   "execution_count": 18,
   "metadata": {},
   "outputs": [
    {
     "data": {
      "text/plain": [
       "1559    UCH4yRBPH2pDUjPeqomx8CTQ\n",
       "2494    UCevD0wKzJFpfIkvHOiQsfLQ\n",
       "3802    UCkPIfBOLoO0hVPG-tI2YeGg\n",
       "5073    UCyKsg-57XC9pyHbP7v3kCPQ\n",
       "3135    UCxCDE6QpDCy8ZB3cVetRILw\n",
       "2051    UCs86f6tbWatcKVt7emv9hfQ\n",
       "3930    UCFahBR2wixu0xOex84bXFvg\n",
       "2759    UCmgWMQkenFc72QnYkdxdoKA\n",
       "516     UC3Ruo_5doyu514PesWGvCAg\n",
       "1063    UCHXgFLFyqR-XqtxfTH3qiYA\n",
       "Name: channelId, dtype: object"
      ]
     },
     "execution_count": 18,
     "metadata": {},
     "output_type": "execute_result"
    }
   ],
   "source": [
    "list_channelId[:SCAN_LIMIT]"
   ]
  }
 ],
 "metadata": {
  "kernelspec": {
   "display_name": ".venv",
   "language": "python",
   "name": "python3"
  },
  "language_info": {
   "codemirror_mode": {
    "name": "ipython",
    "version": 3
   },
   "file_extension": ".py",
   "mimetype": "text/x-python",
   "name": "python",
   "nbconvert_exporter": "python",
   "pygments_lexer": "ipython3",
   "version": "3.11.9"
  }
 },
 "nbformat": 4,
 "nbformat_minor": 2
}
