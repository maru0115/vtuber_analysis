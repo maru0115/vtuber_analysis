{
 "cells": [
  {
   "cell_type": "code",
   "execution_count": 1,
   "metadata": {},
   "outputs": [],
   "source": [
    "from tempfile import mkdtemp\n",
    "import codecs\n",
    "\n",
    "import os\n",
    "import re\n",
    "import time\n",
    "import datetime\n",
    "import pandas as pd\n",
    "import urllib.request\n",
    "from dotenv import load_dotenv\n",
    "load_dotenv()\n",
    "\n",
    "from selenium import webdriver\n",
    "from selenium.webdriver.common.by import By\n",
    "from selenium.common.exceptions import NoSuchElementException\n",
    "from selenium.webdriver.support import expected_conditions as EC\n",
    "from selenium.webdriver.support.ui import WebDriverWait\n",
    "from selenium.webdriver.support.select import Select\n",
    "\n",
    "import googleapiclient.errors\n",
    "from googleapiclient.discovery import build"
   ]
  },
  {
   "cell_type": "code",
   "execution_count": null,
   "metadata": {},
   "outputs": [],
   "source": [
    "# パラメータ設定\n",
    "SCAN_LIMIT      = 10\n",
    "YOUTUBE_API_KEY = os.getenv('YOUTUBE_API_KEY')\n",
    "\n",
    "output_folder        = \"..\\csv\"\n",
    "filename_livers_info = os.path.join(output_folder,\"all_livers_info.csv\")"
   ]
  },
  {
   "cell_type": "code",
   "execution_count": 11,
   "metadata": {},
   "outputs": [],
   "source": [
    "# データ取得対象となるchannelId\n",
    "\n",
    "## featureのcsvファイルに乗っているchannelIdを取得\n",
    "list_csv = [\"collabo.csv\", \"customer.csv\", \"gender.csv\", \"genre.csv\", \"model.csv\"]\n",
    "list_channelId = []\n",
    "\n",
    "for csv in list_csv:\n",
    "    df = pd.read_csv(f\"../csv/feature/{csv}\")\n",
    "    list_channelId = list_channelId + (list(df[\"channelId\"]))\n",
    "\n",
    "list_channelId = list(set(list_channelId))\n",
    "\n",
    "## csvファイル作成\n",
    "with open(filename_livers_info, mode='w', encoding='utf8') as f:\n",
    "    f.write(f\"channelId,title,publishedAt,viewCount,subscriberCount,hiddenSubscriberCount,videoCount,description\")"
   ]
  },
  {
   "cell_type": "code",
   "execution_count": 13,
   "metadata": {},
   "outputs": [
    {
     "data": {
      "text/plain": [
       "5802"
      ]
     },
     "execution_count": 13,
     "metadata": {},
     "output_type": "execute_result"
    }
   ],
   "source": [
    "# YouTube接続の設定\n",
    "youtube = build('youtube', 'v3', developerKey=YOUTUBE_API_KEY)"
   ]
  },
  {
   "cell_type": "code",
   "execution_count": 14,
   "metadata": {},
   "outputs": [
    {
     "ename": "NameError",
     "evalue": "name 'youtube' is not defined",
     "output_type": "error",
     "traceback": [
      "\u001b[1;31m---------------------------------------------------------------------------\u001b[0m",
      "\u001b[1;31mNameError\u001b[0m                                 Traceback (most recent call last)",
      "Cell \u001b[1;32mIn[14], line 5\u001b[0m\n\u001b[0;32m      1\u001b[0m \u001b[38;5;66;03m#データの取得\u001b[39;00m\n\u001b[0;32m      2\u001b[0m \u001b[38;5;28;01mfor\u001b[39;00m channelId \u001b[38;5;129;01min\u001b[39;00m list_channelId:\n\u001b[0;32m      3\u001b[0m \n\u001b[0;32m      4\u001b[0m     \u001b[38;5;66;03m# チャンネルの概要を取得\u001b[39;00m\n\u001b[1;32m----> 5\u001b[0m     response_channel \u001b[38;5;241m=\u001b[39m \u001b[43myoutube\u001b[49m\u001b[38;5;241m.\u001b[39mchannels()\u001b[38;5;241m.\u001b[39mlist(\n\u001b[0;32m      6\u001b[0m         part \u001b[38;5;241m=\u001b[39m \u001b[38;5;124m\"\u001b[39m\u001b[38;5;124msnippet, statistics\u001b[39m\u001b[38;5;124m\"\u001b[39m,\n\u001b[0;32m      7\u001b[0m         \u001b[38;5;28mid\u001b[39m   \u001b[38;5;241m=\u001b[39m channelId,\n\u001b[0;32m      8\u001b[0m         hl   \u001b[38;5;241m=\u001b[39m \u001b[38;5;124m\"\u001b[39m\u001b[38;5;124mja_JP\u001b[39m\u001b[38;5;124m\"\u001b[39m,\n\u001b[0;32m      9\u001b[0m     )\u001b[38;5;241m.\u001b[39mexecute()\n\u001b[0;32m     11\u001b[0m     title                 \u001b[38;5;241m=\u001b[39m response_channel[\u001b[38;5;124m\"\u001b[39m\u001b[38;5;124mitems\u001b[39m\u001b[38;5;124m\"\u001b[39m][\u001b[38;5;241m0\u001b[39m][\u001b[38;5;124m\"\u001b[39m\u001b[38;5;124msnippet\u001b[39m\u001b[38;5;124m\"\u001b[39m][\u001b[38;5;124m\"\u001b[39m\u001b[38;5;124mtitle\u001b[39m\u001b[38;5;124m\"\u001b[39m]\u001b[38;5;241m.\u001b[39mreplace(\u001b[38;5;124m'\u001b[39m\u001b[38;5;124m\"\u001b[39m\u001b[38;5;124m'\u001b[39m,\u001b[38;5;124m'\u001b[39m\u001b[38;5;124m'\u001b[39m)\n\u001b[0;32m     12\u001b[0m     publishedAt           \u001b[38;5;241m=\u001b[39m response_channel[\u001b[38;5;124m\"\u001b[39m\u001b[38;5;124mitems\u001b[39m\u001b[38;5;124m\"\u001b[39m][\u001b[38;5;241m0\u001b[39m][\u001b[38;5;124m\"\u001b[39m\u001b[38;5;124msnippet\u001b[39m\u001b[38;5;124m\"\u001b[39m][\u001b[38;5;124m\"\u001b[39m\u001b[38;5;124mpublishedAt\u001b[39m\u001b[38;5;124m\"\u001b[39m]\n",
      "\u001b[1;31mNameError\u001b[0m: name 'youtube' is not defined"
     ]
    }
   ],
   "source": [
    "#データの取得\n",
    "for channelId in list_channelId:\n",
    "\n",
    "    # チャンネルの概要を取得\n",
    "    response_channel = youtube.channels().list(\n",
    "        part = \"snippet, statistics\",\n",
    "        id   = channelId,\n",
    "        hl   = \"ja_JP\",\n",
    "    ).execute()\n",
    "\n",
    "    title                 = response_channel[\"items\"][0][\"snippet\"][\"title\"].replace('\"','')\n",
    "    publishedAt           = response_channel[\"items\"][0][\"snippet\"][\"publishedAt\"]\n",
    "    viewCount             = response_channel[\"items\"][0][\"statistics\"][\"viewCount\"]\n",
    "    subscriberCount       = response_channel[\"items\"][0][\"statistics\"][\"subscriberCount\"]\n",
    "    hiddenSubscriberCount = response_channel[\"items\"][0][\"statistics\"][\"hiddenSubscriberCount\"]\n",
    "    videoCount            = response_channel[\"items\"][0][\"statistics\"][\"videoCount\"]\n",
    "    description           = response_channel[\"items\"][0][\"snippet\"][\"description\"].replace('\"','').replace('\\n','\\\\n')\n",
    "\n",
    "    with open(filename_livers_info, mode='a', encoding='utf8') as f:\n",
    "        f.write(f'\\n{channelId},\"{title}\",{publishedAt},{viewCount},{subscriberCount},{hiddenSubscriberCount},{videoCount},\"{description}\"')"
   ]
  }
 ],
 "metadata": {
  "kernelspec": {
   "display_name": ".venv",
   "language": "python",
   "name": "python3"
  },
  "language_info": {
   "codemirror_mode": {
    "name": "ipython",
    "version": 3
   },
   "file_extension": ".py",
   "mimetype": "text/x-python",
   "name": "python",
   "nbconvert_exporter": "python",
   "pygments_lexer": "ipython3",
   "version": "3.11.9"
  }
 },
 "nbformat": 4,
 "nbformat_minor": 2
}
